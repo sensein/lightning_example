{
 "cells": [
  {
   "cell_type": "markdown",
   "metadata": {},
   "source": [
    "## Torch lightning example"
   ]
  },
  {
   "cell_type": "code",
   "execution_count": null,
   "metadata": {},
   "outputs": [
    {
     "ename": "",
     "evalue": "",
     "output_type": "error",
     "traceback": [
      "\u001b[1;31mThe kernel failed to start as the Python Environment 'pl (Python 3.1.-1)' is no longer available. Consider selecting another kernel or refreshing the list of Python Environments."
     ]
    }
   ],
   "source": [
    "import torch\n",
    "import pytorch_lightning as pl\n",
    "from torch.utils.data import DataLoader, random_split\n",
    "from torchvision.datasets import MNIST\n",
    "from torchvision import transforms\n",
    "import os\n",
    "import matplotlib.pyplot as plt\n",
    "import random\n",
    "\n",
    "print(\"Lightning version:\", pl.__version__)"
   ]
  },
  {
   "cell_type": "markdown",
   "metadata": {},
   "source": [
    "### Training and testing with torch lightning"
   ]
  },
  {
   "cell_type": "code",
   "execution_count": null,
   "metadata": {},
   "outputs": [],
   "source": [
    "# -----------------\n",
    "# MODEL\n",
    "# -----------------\n",
    "class LightningMNISTClassifier(pl.LightningModule):\n",
    "    \"\"\"A simple neural network for classifying MNIST digits using PyTorch Lightning.\"\"\"\n",
    "\n",
    "    def __init__(self):\n",
    "        \"\"\"Initialize the model with three linear layers.\"\"\"\n",
    "        super().__init__()\n",
    "        self.layer_1 = torch.nn.Linear(28 * 28, 128)\n",
    "        self.layer_2 = torch.nn.Linear(128, 256)\n",
    "        self.layer_3 = torch.nn.Linear(256, 10)\n",
    "\n",
    "    def forward(self, x):\n",
    "        \"\"\"\n",
    "        Forward pass of the model.\n",
    "\n",
    "        Args:\n",
    "            x (torch.Tensor): Input tensor of shape (batch_size, 1, 28, 28).\n",
    "\n",
    "        Returns:\n",
    "            torch.Tensor: Log-softmax probabilities for each class.\n",
    "        \"\"\"\n",
    "        batch_size, channels, width, height = x.size()\n",
    "        x = x.view(batch_size, -1)  # Flatten the input tensor\n",
    "        x = self.layer_1(x)\n",
    "        x = torch.relu(x)\n",
    "        x = self.layer_2(x)\n",
    "        x = torch.relu(x)\n",
    "        x = self.layer_3(x)\n",
    "        x = torch.log_softmax(x, dim=1)  # Apply log-softmax activation\n",
    "        return x\n",
    "\n",
    "    def cross_entropy_loss(self, logits, labels):\n",
    "        \"\"\"\n",
    "        Compute the cross-entropy loss.\n",
    "\n",
    "        Args:\n",
    "            logits (torch.Tensor): Logits from the model.\n",
    "            labels (torch.Tensor): Ground truth labels.\n",
    "\n",
    "        Returns:\n",
    "            torch.Tensor: Cross-entropy loss.\n",
    "        \"\"\"\n",
    "        return torch.nn.functional.cross_entropy(logits, labels)\n",
    "\n",
    "    def training_step(self, train_batch, batch_idx):\n",
    "        \"\"\"\n",
    "        Training step.\n",
    "\n",
    "        Args:\n",
    "            train_batch (tuple): Batch of data and labels.\n",
    "            batch_idx (int): Batch index.\n",
    "\n",
    "        Returns:\n",
    "            torch.Tensor: Training loss.\n",
    "        \"\"\"\n",
    "        x, y = train_batch\n",
    "        logits = self.forward(x)\n",
    "        loss = self.cross_entropy_loss(logits, y)\n",
    "        self.log('train_loss', loss, on_step=True, on_epoch=True, prog_bar=True, logger=True)\n",
    "        return loss\n",
    "\n",
    "    def validation_step(self, val_batch, batch_idx):\n",
    "        \"\"\"\n",
    "        Validation step.\n",
    "\n",
    "        Args:\n",
    "            val_batch (tuple): Batch of data and labels.\n",
    "            batch_idx (int): Batch index.\n",
    "        \"\"\"\n",
    "        x, y = val_batch\n",
    "        logits = self.forward(x)\n",
    "        loss = self.cross_entropy_loss(logits, y)\n",
    "        self.log('val_loss', loss, on_step=True, on_epoch=True, prog_bar=True, logger=True)\n",
    "\n",
    "    def configure_optimizers(self):\n",
    "        \"\"\"\n",
    "        Configure the optimizer.\n",
    "\n",
    "        Returns:\n",
    "            torch.optim.Optimizer: Adam optimizer.\n",
    "        \"\"\"\n",
    "        optimizer = torch.optim.Adam(self.parameters(), lr=1e-3)\n",
    "        return optimizer\n"
   ]
  },
  {
   "cell_type": "code",
   "execution_count": null,
   "metadata": {},
   "outputs": [],
   "source": [
    "# ----------------\n",
    "# DATA\n",
    "# ----------------\n",
    "transform = transforms.Compose([transforms.ToTensor(), transforms.Normalize((0.1307,), (0.3081,))])\n",
    "mnist_train = MNIST(os.getcwd(), train=True, download=True, transform=transform)\n",
    "mnist_test = MNIST(os.getcwd(), train=False, download=True, transform=transform)\n",
    "mnist_train, mnist_val = random_split(mnist_train, [55000, 5000])  # Split the training data into training and validation sets\n",
    "train_dataloader = DataLoader(mnist_train, batch_size=64)  # Training data loader\n",
    "val_loader = DataLoader(mnist_val, batch_size=64)  # Validation data loader\n",
    "test_loader = DataLoader(mnist_test, batch_size=64)  # Test data loader\n"
   ]
  },
  {
   "cell_type": "code",
   "execution_count": null,
   "metadata": {},
   "outputs": [],
   "source": [
    "# ----------------\n",
    "# MODEL INITIALIZATION AND TRAINING\n",
    "# ----------------\n",
    "model = LightningMNISTClassifier()\n",
    "trainer = pl.Trainer(\n",
    "    max_epochs=5,\n",
    "    log_every_n_steps=100,  # Log metrics every 100 steps\n",
    ")\n",
    "trainer.fit(model, train_dataloader, val_loader)  # Train the model"
   ]
  },
  {
   "cell_type": "code",
   "execution_count": null,
   "metadata": {},
   "outputs": [],
   "source": [
    "# ----------------\n",
    "# FUNCTION TO DO PREDICTION\n",
    "# ----------------\n",
    "def show_random_example(model, dataset):\n",
    "    \"\"\"\n",
    "    Show a random example from the dataset along with its predicted and actual labels.\n",
    "\n",
    "    Args:\n",
    "        model (torch.nn.Module): Trained model.\n",
    "        dataset (torch.utils.data.Dataset): Dataset to sample from.\n",
    "    \"\"\"\n",
    "    # Set the model to evaluation mode\n",
    "    model.eval()\n",
    "    \n",
    "    # Get a random index\n",
    "    idx = random.randint(0, len(dataset) - 1)\n",
    "    \n",
    "    # Get the image and label\n",
    "    img, label = dataset[idx]\n",
    "    \n",
    "    # Add batch dimension and perform inference\n",
    "    with torch.no_grad():\n",
    "        logits = model(img.unsqueeze(0))  # Add batch dimension\n",
    "        prediction = torch.argmax(logits, dim=1).item()  # Get predicted label\n",
    "    \n",
    "    # Convert image to numpy array for plotting\n",
    "    img = img.numpy().squeeze()\n",
    "    \n",
    "    # Plot the image\n",
    "    plt.imshow(img, cmap='gray')\n",
    "    plt.title(f'Actual Label: {label}, Predicted Label: {prediction}')\n",
    "    plt.show()"
   ]
  },
  {
   "cell_type": "code",
   "execution_count": null,
   "metadata": {},
   "outputs": [],
   "source": [
    "# ----------------\n",
    "# INFERENCE\n",
    "# ----------------\n",
    "# Show a random example from the test set along with its predicted and actual labels\n",
    "show_random_example(model, mnist_test)"
   ]
  },
  {
   "cell_type": "code",
   "execution_count": null,
   "metadata": {},
   "outputs": [],
   "source": []
  },
  {
   "cell_type": "code",
   "execution_count": null,
   "metadata": {},
   "outputs": [],
   "source": []
  },
  {
   "cell_type": "code",
   "execution_count": null,
   "metadata": {},
   "outputs": [],
   "source": []
  }
 ],
 "metadata": {
  "kernelspec": {
   "display_name": "pl",
   "language": "python",
   "name": "python3"
  },
  "language_info": {
   "codemirror_mode": {
    "name": "ipython",
    "version": 3
   },
   "file_extension": ".py",
   "mimetype": "text/x-python",
   "name": "python",
   "nbconvert_exporter": "python",
   "pygments_lexer": "ipython3",
   "version": "3.1.-1"
  }
 },
 "nbformat": 4,
 "nbformat_minor": 2
}
