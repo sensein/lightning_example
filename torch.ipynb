{
 "cells": [
  {
   "cell_type": "markdown",
   "metadata": {},
   "source": [
    "## Torch example"
   ]
  },
  {
   "cell_type": "code",
   "execution_count": 5,
   "metadata": {},
   "outputs": [
    {
     "name": "stdout",
     "output_type": "stream",
     "text": [
      "Torch version: 2.3.1\n"
     ]
    }
   ],
   "source": [
    "import torch\n",
    "from torch.utils.data import DataLoader, random_split\n",
    "from torchvision.datasets import MNIST\n",
    "from torchvision import transforms\n",
    "import os\n",
    "import random\n",
    "import matplotlib.pyplot as plt\n",
    "from torchvision import transforms\n",
    "\n",
    "print(\"Torch version:\", torch.__version__)"
   ]
  },
  {
   "cell_type": "markdown",
   "metadata": {},
   "source": [
    "### MNIST dataset"
   ]
  },
  {
   "cell_type": "code",
   "execution_count": 6,
   "metadata": {},
   "outputs": [],
   "source": [
    "# ----------------\n",
    "# FUNCTION TO SHOW EXAMPLE\n",
    "# ----------------\n",
    "def show_random_example(dataset):\n",
    "    # Get a random index\n",
    "    idx = random.randint(0, len(dataset) - 1)\n",
    "    \n",
    "    # Get the image and label\n",
    "    img, label = dataset[idx]\n",
    "    \n",
    "    # Convert image to numpy array for plotting\n",
    "    img = img.numpy().squeeze()\n",
    "    \n",
    "    # Plot the image\n",
    "    plt.imshow(img, cmap='gray')\n",
    "    plt.title(f'Label: {label}')\n",
    "    plt.show()\n",
    "\n",
    "transform = transforms.Compose([transforms.ToTensor(), transforms.Normalize((0.1307,), (0.3081,))])\n",
    "mnist_test = MNIST(os.getcwd(), train=False, download=True, transform=transform)"
   ]
  },
  {
   "cell_type": "code",
   "execution_count": 7,
   "metadata": {},
   "outputs": [
    {
     "data": {
      "image/png": "[encoded data removed]",
      "text/plain": [
       "<Figure size 640x480 with 1 Axes>"
      ]
     },
     "metadata": {},
     "output_type": "display_data"
    }
   ],
   "source": [
    "# Show a random example from the training dataset\n",
    "show_random_example(mnist_test)"
   ]
  },
  {
   "cell_type": "markdown",
   "metadata": {},
   "source": [
    "### Training and testing with torch"
   ]
  },
  {
   "cell_type": "code",
   "execution_count": 8,
   "metadata": {},
   "outputs": [],
   "source": [
    "# -----------------\n",
    "# MODEL\n",
    "# -----------------\n",
    "class MNISTClassifier(torch.nn.Module):\n",
    "    \"\"\"A simple feedforward neural network for MNIST classification.\n",
    "\n",
    "    Attributes:\n",
    "        layer_1 (torch.nn.Linear): First fully connected layer.\n",
    "        layer_2 (torch.nn.Linear): Second fully connected layer.\n",
    "        layer_3 (torch.nn.Linear): Third fully connected layer.\n",
    "    \"\"\"\n",
    "\n",
    "    def __init__(self):\n",
    "        \"\"\"Initializes the neural network layers.\"\"\"\n",
    "        super(MNISTClassifier, self).__init__()\n",
    "\n",
    "        # mnist images are (1, 28, 28) (channels, width, height)\n",
    "        self.layer_1 = torch.nn.Linear(28 * 28, 128)\n",
    "        self.layer_2 = torch.nn.Linear(128, 256)\n",
    "        self.layer_3 = torch.nn.Linear(256, 10)\n",
    "\n",
    "    def forward(self, x):\n",
    "        \"\"\"Defines the forward pass of the neural network.\n",
    "\n",
    "        Args:\n",
    "            x (torch.Tensor): Input tensor.\n",
    "\n",
    "        Returns:\n",
    "            torch.Tensor: Output tensor with log probabilities.\n",
    "        \"\"\"\n",
    "        batch_size = x.size(0)\n",
    "\n",
    "        # (b, 1, 28, 28) -> (b, 1*28*28)\n",
    "        x = x.view(batch_size, -1)\n",
    "\n",
    "        # layer 1\n",
    "        x = self.layer_1(x)\n",
    "        x = torch.relu(x)\n",
    "\n",
    "        # layer 2\n",
    "        x = self.layer_2(x)\n",
    "        x = torch.relu(x)\n",
    "\n",
    "        # layer 3\n",
    "        x = self.layer_3(x)\n",
    "\n",
    "        # probability distribution over labels\n",
    "        x = torch.log_softmax(x, dim=1)\n",
    "\n",
    "        return x\n"
   ]
  },
  {
   "cell_type": "code",
   "execution_count": 9,
   "metadata": {},
   "outputs": [],
   "source": [
    "# ----------------\n",
    "# DATA\n",
    "# ----------------\n",
    "# Define the transformation to apply to the images\n",
    "transform = transforms.Compose([\n",
    "    transforms.ToTensor(),  # Convert images to PyTorch tensors\n",
    "    transforms.Normalize((0.1307,), (0.3081,))  # Normalize the images\n",
    "])\n",
    "\n",
    "# Load the MNIST dataset for training and testing\n",
    "mnist_train = MNIST(os.getcwd(), train=True, download=True, transform=transform)\n",
    "mnist_test = MNIST(os.getcwd(), train=False, download=True, transform=transform)\n",
    "\n",
    "# Split the training dataset into training and validation sets\n",
    "mnist_train, mnist_val = random_split(mnist_train, [55000, 5000])\n",
    "\n",
    "# Create data loaders for training, validation, and testing\n",
    "train_loader = DataLoader(mnist_train, batch_size=64, shuffle=True)\n",
    "val_loader = DataLoader(mnist_val, batch_size=64, shuffle=False)\n",
    "test_loader = DataLoader(mnist_test, batch_size=64, shuffle=False)\n"
   ]
  },
  {
   "cell_type": "code",
   "execution_count": 10,
   "metadata": {},
   "outputs": [
    {
     "name": "stdout",
     "output_type": "stream",
     "text": [
      "Epoch [1/5], Step [100/860], Train Loss: 0.2060\n",
      "Epoch [1/5], Step [200/860], Train Loss: 0.1424\n",
      "Epoch [1/5], Step [300/860], Train Loss: 0.2088\n",
      "Epoch [1/5], Step [400/860], Train Loss: 0.2177\n",
      "Epoch [1/5], Step [500/860], Train Loss: 0.2761\n",
      "Epoch [1/5], Step [600/860], Train Loss: 0.0611\n",
      "Epoch [1/5], Step [700/860], Train Loss: 0.0536\n",
      "Epoch [1/5], Step [800/860], Train Loss: 0.1706\n",
      "Epoch [1/5], Step [860/860], Train Loss: 0.0913\n",
      "Epoch [1/5], Train Loss: 0.2524, Validation Loss: 0.1259\n",
      "Epoch [2/5], Step [100/860], Train Loss: 0.1431\n",
      "Epoch [2/5], Step [200/860], Train Loss: 0.1259\n",
      "Epoch [2/5], Step [300/860], Train Loss: 0.0819\n",
      "Epoch [2/5], Step [400/860], Train Loss: 0.1094\n",
      "Epoch [2/5], Step [500/860], Train Loss: 0.1015\n",
      "Epoch [2/5], Step [600/860], Train Loss: 0.1475\n",
      "Epoch [2/5], Step [700/860], Train Loss: 0.0574\n",
      "Epoch [2/5], Step [800/860], Train Loss: 0.1977\n",
      "Epoch [2/5], Step [860/860], Train Loss: 0.2124\n",
      "Epoch [2/5], Train Loss: 0.1070, Validation Loss: 0.0982\n",
      "Epoch [3/5], Step [100/860], Train Loss: 0.0363\n",
      "Epoch [3/5], Step [200/860], Train Loss: 0.1138\n",
      "Epoch [3/5], Step [300/860], Train Loss: 0.0358\n",
      "Epoch [3/5], Step [400/860], Train Loss: 0.0819\n",
      "Epoch [3/5], Step [500/860], Train Loss: 0.1345\n",
      "Epoch [3/5], Step [600/860], Train Loss: 0.1068\n",
      "Epoch [3/5], Step [700/860], Train Loss: 0.0881\n",
      "Epoch [3/5], Step [800/860], Train Loss: 0.0450\n",
      "Epoch [3/5], Step [860/860], Train Loss: 0.0496\n",
      "Epoch [3/5], Train Loss: 0.0739, Validation Loss: 0.0868\n",
      "Epoch [4/5], Step [100/860], Train Loss: 0.0625\n",
      "Epoch [4/5], Step [200/860], Train Loss: 0.0365\n",
      "Epoch [4/5], Step [300/860], Train Loss: 0.0716\n",
      "Epoch [4/5], Step [400/860], Train Loss: 0.0084\n",
      "Epoch [4/5], Step [500/860], Train Loss: 0.0189\n",
      "Epoch [4/5], Step [600/860], Train Loss: 0.0471\n",
      "Epoch [4/5], Step [700/860], Train Loss: 0.0336\n",
      "Epoch [4/5], Step [800/860], Train Loss: 0.1194\n",
      "Epoch [4/5], Step [860/860], Train Loss: 0.0571\n",
      "Epoch [4/5], Train Loss: 0.0552, Validation Loss: 0.0922\n",
      "Epoch [5/5], Step [100/860], Train Loss: 0.0067\n",
      "Epoch [5/5], Step [200/860], Train Loss: 0.0231\n",
      "Epoch [5/5], Step [300/860], Train Loss: 0.3070\n",
      "Epoch [5/5], Step [400/860], Train Loss: 0.0324\n",
      "Epoch [5/5], Step [500/860], Train Loss: 0.0036\n",
      "Epoch [5/5], Step [600/860], Train Loss: 0.0266\n",
      "Epoch [5/5], Step [700/860], Train Loss: 0.0148\n",
      "Epoch [5/5], Step [800/860], Train Loss: 0.0634\n",
      "Epoch [5/5], Step [860/860], Train Loss: 0.0377\n",
      "Epoch [5/5], Train Loss: 0.0447, Validation Loss: 0.0904\n"
     ]
    }
   ],
   "source": [
    "# ----------------\n",
    "# MODEL INITIALIZATION AND TRAINING\n",
    "# ----------------\n",
    "# Initialize the model, optimizer, and loss function\n",
    "pytorch_model = MNISTClassifier()\n",
    "optimizer = torch.optim.Adam(pytorch_model.parameters(), lr=1e-3)\n",
    "criterion = torch.nn.NLLLoss()\n",
    "\n",
    "num_epochs = 5  # Number of training epochs\n",
    "\n",
    "for epoch in range(num_epochs):\n",
    "    # TRAINING LOOP\n",
    "    pytorch_model.train()  # Set the model to training mode\n",
    "    train_loss_total = 0  # Initialize the total training loss\n",
    "\n",
    "    for step, train_batch in enumerate(train_loader):\n",
    "        x, y = train_batch  # Get the input data and labels from the batch\n",
    "\n",
    "        optimizer.zero_grad()  # Clear the gradients\n",
    "        logits = pytorch_model(x)  # Forward pass\n",
    "        loss = criterion(logits, y)  # Compute the loss\n",
    "        loss.backward()  # Backward pass\n",
    "        optimizer.step()  # Update the model parameters\n",
    "\n",
    "        train_loss_total += loss.item()  # Accumulate the training loss\n",
    "\n",
    "        # Print training progress\n",
    "        if (step + 1) % 100 == 0 or (step + 1) == len(train_loader):\n",
    "            print(f'Epoch [{epoch+1}/{num_epochs}], Step [{step+1}/{len(train_loader)}], Train Loss: {loss.item():.4f}')\n",
    "\n",
    "    # VALIDATION LOOP\n",
    "    pytorch_model.eval()  # Set the model to evaluation mode\n",
    "    val_loss_total = 0  # Initialize the total validation loss\n",
    "\n",
    "    with torch.no_grad():  # Disable gradient computation\n",
    "        for val_batch in val_loader:\n",
    "            x, y = val_batch  # Get the input data and labels from the batch\n",
    "            logits = pytorch_model(x)  # Forward pass\n",
    "            val_loss_total += criterion(logits, y).item()  # Accumulate the validation loss\n",
    "\n",
    "        val_loss_avg = val_loss_total / len(val_loader)  # Compute the average validation loss\n",
    "\n",
    "    train_loss_avg = train_loss_total / len(train_loader)  # Compute the average training loss\n",
    "    print(f'Epoch [{epoch+1}/{num_epochs}], Train Loss: {train_loss_avg:.4f}, Validation Loss: {val_loss_avg:.4f}')"
   ]
  },
  {
   "cell_type": "code",
   "execution_count": 11,
   "metadata": {},
   "outputs": [],
   "source": [
    "# ----------------\n",
    "# FUNCTION TO DO PREDICTION\n",
    "# ----------------\n",
    "def show_random_example(model, dataset):\n",
    "    \"\"\"\n",
    "    Show a random example from the dataset along with its predicted and actual labels.\n",
    "\n",
    "    Args:\n",
    "        model (torch.nn.Module): Trained model.\n",
    "        dataset (torch.utils.data.Dataset): Dataset to sample from.\n",
    "    \"\"\"\n",
    "    # Set the model to evaluation mode\n",
    "    model.eval()\n",
    "    \n",
    "    # Get a random index\n",
    "    idx = random.randint(0, len(dataset) - 1)\n",
    "    \n",
    "    # Get the image and label\n",
    "    img, label = dataset[idx]\n",
    "    \n",
    "    # Add batch dimension and perform inference\n",
    "    with torch.no_grad():\n",
    "        logits = model(img.unsqueeze(0))  # Add batch dimension\n",
    "        prediction = torch.argmax(logits, dim=1).item()  # Get predicted label\n",
    "    \n",
    "    # Convert image to numpy array for plotting\n",
    "    img = img.numpy().squeeze()\n",
    "    \n",
    "    # Plot the image\n",
    "    plt.imshow(img, cmap='gray')\n",
    "    plt.title(f'Actual Label: {label}, Predicted Label: {prediction}')\n",
    "    plt.show()"
   ]
  },
  {
   "cell_type": "code",
   "execution_count": 24,
   "metadata": {},
   "outputs": [
    {
     "data": {
      "image/png": "[encoded data removed]",
      "text/plain": [
       "<Figure size 640x480 with 1 Axes>"
      ]
     },
     "metadata": {},
     "output_type": "display_data"
    }
   ],
   "source": [
    "# ----------------\n",
    "# INFERENCE\n",
    "# ----------------\n",
    "# Show a random example from the test set along with its predicted and actual labels\n",
    "show_random_example(pytorch_model, mnist_test)"
   ]
  },
  {
   "cell_type": "code",
   "execution_count": null,
   "metadata": {},
   "outputs": [],
   "source": []
  }
 ],
 "metadata": {
  "kernelspec": {
   "display_name": "pl",
   "language": "python",
   "name": "python3"
  },
  "language_info": {
   "codemirror_mode": {
    "name": "ipython",
    "version": 3
   },
   "file_extension": ".py",
   "mimetype": "text/x-python",
   "name": "python",
   "nbconvert_exporter": "python",
   "pygments_lexer": "ipython3",
   "version": "3.10.14"
  }
 },
 "nbformat": 4,
 "nbformat_minor": 2
}
