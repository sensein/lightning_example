{
 "cells": [
  {
   "cell_type": "markdown",
   "metadata": {},
   "source": [
    "## Torch lightning example - 2"
   ]
  },
  {
   "cell_type": "code",
   "execution_count": 1,
   "metadata": {},
   "outputs": [
    {
     "name": "stdout",
     "output_type": "stream",
     "text": [
      "Lightning version: 2.3.1\n"
     ]
    }
   ],
   "source": [
    "import torch\n",
    "import pytorch_lightning as pl\n",
    "from torch.utils.data import DataLoader, random_split\n",
    "from torchvision.datasets import MNIST\n",
    "from torchvision import transforms\n",
    "import os\n",
    "from pytorch_lightning.callbacks import Callback, EarlyStopping\n",
    "from pytorch_lightning.loggers import WandbLogger\n",
    "import matplotlib.pyplot as plt\n",
    "import random\n",
    "\n",
    "print(\"Lightning version:\", pl.__version__)"
   ]
  },
  {
   "cell_type": "code",
   "execution_count": 2,
   "metadata": {},
   "outputs": [],
   "source": [
    "# -----------------\n",
    "# MODEL\n",
    "# -----------------\n",
    "class LightningMNISTClassifier(pl.LightningModule):\n",
    "    \"\"\"A simple neural network for classifying MNIST digits using PyTorch Lightning.\"\"\"\n",
    "\n",
    "    def __init__(self):\n",
    "        \"\"\"Initialize the model with three linear layers.\"\"\"\n",
    "        super().__init__()\n",
    "        self.layer_1 = torch.nn.Linear(28 * 28, 128)\n",
    "        self.layer_2 = torch.nn.Linear(128, 256)\n",
    "        self.layer_3 = torch.nn.Linear(256, 10)\n",
    "\n",
    "    def forward(self, x):\n",
    "        \"\"\"\n",
    "        Forward pass of the model.\n",
    "\n",
    "        Args:\n",
    "            x (torch.Tensor): Input tensor of shape (batch_size, 1, 28, 28).\n",
    "\n",
    "        Returns:\n",
    "            torch.Tensor: Log-softmax probabilities for each class.\n",
    "        \"\"\"\n",
    "        batch_size, channels, width, height = x.size()\n",
    "        x = x.view(batch_size, -1)  # Flatten the input tensor\n",
    "        x = self.layer_1(x)\n",
    "        x = torch.relu(x)\n",
    "        x = self.layer_2(x)\n",
    "        x = torch.relu(x)\n",
    "        x = self.layer_3(x)\n",
    "        x = torch.log_softmax(x, dim=1)  # Apply log-softmax activation\n",
    "        return x\n",
    "\n",
    "    def cross_entropy_loss(self, logits, labels):\n",
    "        \"\"\"\n",
    "        Compute the cross-entropy loss.\n",
    "\n",
    "        Args:\n",
    "            logits (torch.Tensor): Logits from the model.\n",
    "            labels (torch.Tensor): Ground truth labels.\n",
    "\n",
    "        Returns:\n",
    "            torch.Tensor: Cross-entropy loss.\n",
    "        \"\"\"\n",
    "        return torch.nn.functional.cross_entropy(logits, labels)\n",
    "\n",
    "    def training_step(self, train_batch, batch_idx):\n",
    "        \"\"\"\n",
    "        Training step.\n",
    "\n",
    "        Args:\n",
    "            train_batch (tuple): Batch of data and labels.\n",
    "            batch_idx (int): Batch index.\n",
    "\n",
    "        Returns:\n",
    "            torch.Tensor: Training loss.\n",
    "        \"\"\"\n",
    "        x, y = train_batch\n",
    "        logits = self.forward(x)\n",
    "        loss = self.cross_entropy_loss(logits, y)\n",
    "        self.log('train_loss', loss, on_step=True, on_epoch=True, prog_bar=True, logger=True)\n",
    "        return loss\n",
    "\n",
    "    def validation_step(self, val_batch, batch_idx):\n",
    "        \"\"\"\n",
    "        Validation step.\n",
    "\n",
    "        Args:\n",
    "            val_batch (tuple): Batch of data and labels.\n",
    "            batch_idx (int): Batch index.\n",
    "        \"\"\"\n",
    "        x, y = val_batch\n",
    "        logits = self.forward(x)\n",
    "        loss = self.cross_entropy_loss(logits, y)\n",
    "        self.log('val_loss', loss, on_step=True, on_epoch=True, prog_bar=True, logger=True)\n",
    "\n",
    "    def configure_optimizers(self):\n",
    "        \"\"\"\n",
    "        Configure the optimizer.\n",
    "\n",
    "        Returns:\n",
    "            torch.optim.Optimizer: Adam optimizer.\n",
    "        \"\"\"\n",
    "        optimizer = torch.optim.Adam(self.parameters(), lr=1e-3)\n",
    "        return optimizer"
   ]
  },
  {
   "cell_type": "code",
   "execution_count": 3,
   "metadata": {},
   "outputs": [],
   "source": [
    "# ----------------\n",
    "# DATA\n",
    "# ----------------\n",
    "# Data preparation\n",
    "transform = transforms.Compose([transforms.ToTensor(), transforms.Normalize((0.1307,), (0.3081,))])\n",
    "mnist_train = MNIST(os.getcwd(), train=True, download=True, transform=transform)\n",
    "mnist_test = MNIST(os.getcwd(), train=False, download=True, transform=transform)\n",
    "mnist_train, mnist_val = random_split(mnist_train, [55000, 5000])  # Split the training data into training and validation sets\n",
    "train_dataloader = DataLoader(mnist_train, batch_size=64)  # Training data loader\n",
    "val_loader = DataLoader(mnist_val, batch_size=64)  # Validation data loader\n",
    "test_loader = DataLoader(mnist_test, batch_size=64)  # Test data loader\n"
   ]
  },
  {
   "cell_type": "code",
   "execution_count": 4,
   "metadata": {},
   "outputs": [
    {
     "name": "stderr",
     "output_type": "stream",
     "text": [
      "Seed set to 42\n",
      "GPU available: True (mps), used: True\n",
      "TPU available: False, using: 0 TPU cores\n",
      "HPU available: False, using: 0 HPUs\n",
      "Failed to detect the name of this notebook, you can set it manually with the WANDB_NOTEBOOK_NAME environment variable to enable code saving.\n",
      "\u001b[34m\u001b[1mwandb\u001b[0m: Currently logged in as: \u001b[33mfabiocat93\u001b[0m. Use \u001b[1m`wandb login --relogin`\u001b[0m to force relogin\n"
     ]
    },
    {
     "data": {
      "text/html": [
       "Tracking run with wandb version 0.17.3"
      ],
      "text/plain": [
       "<IPython.core.display.HTML object>"
      ]
     },
     "metadata": {},
     "output_type": "display_data"
    },
    {
     "data": {
      "text/html": [
       "Run data is saved locally in <code>./wandb/run-20240701_194308-tuo0lieb</code>"
      ],
      "text/plain": [
       "<IPython.core.display.HTML object>"
      ]
     },
     "metadata": {},
     "output_type": "display_data"
    },
    {
     "data": {
      "text/html": [
       "Syncing run <strong><a href='https://wandb.ai/fabiocat93/mnist-project/runs/tuo0lieb' target=\"_blank\">comfy-sky-5</a></strong> to <a href='https://wandb.ai/fabiocat93/mnist-project' target=\"_blank\">Weights & Biases</a> (<a href='https://wandb.me/run' target=\"_blank\">docs</a>)<br/>"
      ],
      "text/plain": [
       "<IPython.core.display.HTML object>"
      ]
     },
     "metadata": {},
     "output_type": "display_data"
    },
    {
     "data": {
      "text/html": [
       " View project at <a href='https://wandb.ai/fabiocat93/mnist-project' target=\"_blank\">https://wandb.ai/fabiocat93/mnist-project</a>"
      ],
      "text/plain": [
       "<IPython.core.display.HTML object>"
      ]
     },
     "metadata": {},
     "output_type": "display_data"
    },
    {
     "data": {
      "text/html": [
       " View run at <a href='https://wandb.ai/fabiocat93/mnist-project/runs/tuo0lieb' target=\"_blank\">https://wandb.ai/fabiocat93/mnist-project/runs/tuo0lieb</a>"
      ],
      "text/plain": [
       "<IPython.core.display.HTML object>"
      ]
     },
     "metadata": {},
     "output_type": "display_data"
    },
    {
     "name": "stderr",
     "output_type": "stream",
     "text": [
      "\n",
      "  | Name    | Type   | Params | Mode \n",
      "-------------------------------------------\n",
      "0 | layer_1 | Linear | 100 K  | train\n",
      "1 | layer_2 | Linear | 33.0 K | train\n",
      "2 | layer_3 | Linear | 2.6 K  | train\n",
      "-------------------------------------------\n",
      "136 K     Trainable params\n",
      "0         Non-trainable params\n",
      "136 K     Total params\n",
      "0.544     Total estimated model params size (MB)\n"
     ]
    },
    {
     "data": {
      "application/vnd.jupyter.widget-view+json": {
       "model_id": "df1c8e55d6fc437db167724efc359aae",
       "version_major": 2,
       "version_minor": 0
      },
      "text/plain": [
       "Sanity Checking: |          | 0/? [00:00<?, ?it/s]"
      ]
     },
     "metadata": {},
     "output_type": "display_data"
    },
    {
     "name": "stderr",
     "output_type": "stream",
     "text": [
      "/Users/fabiocat/miniconda3/envs/pl/lib/python3.10/site-packages/pytorch_lightning/trainer/connectors/data_connector.py:424: The 'val_dataloader' does not have many workers which may be a bottleneck. Consider increasing the value of the `num_workers` argument` to `num_workers=11` in the `DataLoader` to improve performance.\n"
     ]
    },
    {
     "name": "stdout",
     "output_type": "stream",
     "text": [
      "Training is started!\n"
     ]
    },
    {
     "name": "stderr",
     "output_type": "stream",
     "text": [
      "/Users/fabiocat/miniconda3/envs/pl/lib/python3.10/site-packages/pytorch_lightning/trainer/connectors/data_connector.py:424: The 'train_dataloader' does not have many workers which may be a bottleneck. Consider increasing the value of the `num_workers` argument` to `num_workers=11` in the `DataLoader` to improve performance.\n"
     ]
    },
    {
     "data": {
      "application/vnd.jupyter.widget-view+json": {
       "model_id": "991d73818ba04150a878d3f488ef0a9a",
       "version_major": 2,
       "version_minor": 0
      },
      "text/plain": [
       "Training: |          | 0/? [00:00<?, ?it/s]"
      ]
     },
     "metadata": {},
     "output_type": "display_data"
    },
    {
     "data": {
      "application/vnd.jupyter.widget-view+json": {
       "model_id": "4c33feb2c75e466285d0a9fee098245d",
       "version_major": 2,
       "version_minor": 0
      },
      "text/plain": [
       "Validation: |          | 0/? [00:00<?, ?it/s]"
      ]
     },
     "metadata": {},
     "output_type": "display_data"
    },
    {
     "name": "stderr",
     "output_type": "stream",
     "text": [
      "Metric val_loss improved. New best score: 0.181\n"
     ]
    },
    {
     "data": {
      "application/vnd.jupyter.widget-view+json": {
       "model_id": "2fc4866c93eb41ce8e0b8e0ad507b29e",
       "version_major": 2,
       "version_minor": 0
      },
      "text/plain": [
       "Validation: |          | 0/? [00:00<?, ?it/s]"
      ]
     },
     "metadata": {},
     "output_type": "display_data"
    },
    {
     "name": "stderr",
     "output_type": "stream",
     "text": [
      "Metric val_loss improved by 0.053 >= min_delta = 0.0. New best score: 0.128\n"
     ]
    },
    {
     "data": {
      "application/vnd.jupyter.widget-view+json": {
       "model_id": "fecd6a92c33048ccbbfcd260456e7f89",
       "version_major": 2,
       "version_minor": 0
      },
      "text/plain": [
       "Validation: |          | 0/? [00:00<?, ?it/s]"
      ]
     },
     "metadata": {},
     "output_type": "display_data"
    },
    {
     "name": "stderr",
     "output_type": "stream",
     "text": [
      "Metric val_loss improved by 0.021 >= min_delta = 0.0. New best score: 0.107\n"
     ]
    },
    {
     "data": {
      "application/vnd.jupyter.widget-view+json": {
       "model_id": "947cccd746b347fbaeae93db380073a4",
       "version_major": 2,
       "version_minor": 0
      },
      "text/plain": [
       "Validation: |          | 0/? [00:00<?, ?it/s]"
      ]
     },
     "metadata": {},
     "output_type": "display_data"
    },
    {
     "name": "stderr",
     "output_type": "stream",
     "text": [
      "Metric val_loss improved by 0.008 >= min_delta = 0.0. New best score: 0.099\n"
     ]
    },
    {
     "data": {
      "application/vnd.jupyter.widget-view+json": {
       "model_id": "45716a7f9806461e840b91c42fa7c344",
       "version_major": 2,
       "version_minor": 0
      },
      "text/plain": [
       "Validation: |          | 0/? [00:00<?, ?it/s]"
      ]
     },
     "metadata": {},
     "output_type": "display_data"
    },
    {
     "data": {
      "application/vnd.jupyter.widget-view+json": {
       "model_id": "209283d762924419b84cd81a22dd475a",
       "version_major": 2,
       "version_minor": 0
      },
      "text/plain": [
       "Validation: |          | 0/? [00:00<?, ?it/s]"
      ]
     },
     "metadata": {},
     "output_type": "display_data"
    },
    {
     "data": {
      "application/vnd.jupyter.widget-view+json": {
       "model_id": "28c6411a03414bdeb854ac6c1c2cc2f4",
       "version_major": 2,
       "version_minor": 0
      },
      "text/plain": [
       "Validation: |          | 0/? [00:00<?, ?it/s]"
      ]
     },
     "metadata": {},
     "output_type": "display_data"
    },
    {
     "name": "stderr",
     "output_type": "stream",
     "text": [
      "Monitored metric val_loss did not improve in the last 3 records. Best score: 0.099. Signaling Trainer to stop.\n"
     ]
    },
    {
     "name": "stdout",
     "output_type": "stream",
     "text": [
      "Training is done.\n"
     ]
    }
   ],
   "source": [
    "# ----------------\n",
    "# MODEL INITIALIZATION AND TRAINING\n",
    "# ----------------\n",
    "# Callback definition\n",
    "class PrintCallback(Callback):\n",
    "    \"\"\"Callback to print messages at the start and end of training.\"\"\"\n",
    "    def on_train_start(self, trainer, pl_module):\n",
    "        \"\"\"Called when the train begins.\"\"\"\n",
    "        print(\"Training is started!\")\n",
    "\n",
    "    def on_train_end(self, trainer, pl_module):\n",
    "        \"\"\"Called when the train ends.\"\"\"\n",
    "        print(\"Training is done.\")\n",
    "\n",
    "# Create a wandb logger\n",
    "wandb_logger = WandbLogger(project='mnist-project', entity='fabiocat93')\n",
    "\n",
    "# Create early stopping callback\n",
    "early_stopping_callback = EarlyStopping(\n",
    "    monitor='val_loss',  # Metric to monitor\n",
    "    patience=3,  # Number of epochs with no improvement after which training will be stopped\n",
    "    verbose=True,  # Verbosity mode\n",
    "    mode='min'  # Mode to monitor the metric ('min' for loss)\n",
    ")\n",
    "\n",
    "# Instantiate the model\n",
    "model = LightningMNISTClassifier()\n",
    "\n",
    "# Set seed for reproducibility\n",
    "pl.seed_everything(42, workers=True)\n",
    "\n",
    "# Define the trainer\n",
    "trainer = pl.Trainer(\n",
    "    logger=wandb_logger,  # Logger for experiment tracking\n",
    "    min_epochs=1,  # Minimum number of epochs\n",
    "    max_epochs=10,  # Maximum number of epochs\n",
    "    log_every_n_steps=100,  # Log metrics every 100 steps\n",
    "    deterministic=True,  # Ensure deterministic training\n",
    "    devices=1,  # Number of devices to use\n",
    "    accelerator=\"auto\",  # Use available accelerator (GPU if available)\n",
    "    # strategy=\"ddp\",  # Uncomment if you have multiple GPUs and want to use distributed training\n",
    "    accumulate_grad_batches=4,  # Accumulate gradients over 4 batches\n",
    "    callbacks=[PrintCallback(), early_stopping_callback],  # List of callbacks\n",
    "    check_val_every_n_epoch=1,  # Check validation metrics every epoch\n",
    "    enable_checkpointing=True  # Enable checkpointing\n",
    ")\n",
    "\n",
    "# Assume train_dataloader and val_loader are already defined\n",
    "trainer.fit(model, train_dataloader, val_loader)  # Train the model"
   ]
  },
  {
   "cell_type": "code",
   "execution_count": null,
   "metadata": {},
   "outputs": [],
   "source": [
    "# ----------------\n",
    "# FUNCTION TO DO PREDICTION\n",
    "# -----------\n",
    "# -----\n",
    "def show_random_example(model, dataset):\n",
    "    \"\"\"\n",
    "    Show a random example from the dataset along with its predicted and actual labels.\n",
    "\n",
    "    Args:\n",
    "        model (torch.nn.Module): Trained model.\n",
    "        dataset (torch.utils.data.Dataset): Dataset to sample from.\n",
    "    \"\"\"\n",
    "    # Set the model to evaluation mode\n",
    "    model.eval()\n",
    "    \n",
    "    # Get a random index\n",
    "    idx = random.randint(0, len(dataset) - 1)\n",
    "    \n",
    "    # Get the image and label\n",
    "    img, label = dataset[idx]\n",
    "    \n",
    "    # Add batch dimension and perform inference\n",
    "    with torch.no_grad():\n",
    "        logits = model(img.unsqueeze(0))  # Add batch dimension\n",
    "        prediction = torch.argmax(logits, dim=1).item()  # Get predicted label\n",
    "    \n",
    "    # Convert image to numpy array for plotting\n",
    "    img = img.numpy().squeeze()\n",
    "    \n",
    "    # Plot the image\n",
    "    plt.imshow(img, cmap='gray')\n",
    "    plt.title(f'Actual Label: {label}, Predicted Label: {prediction}')\n",
    "    plt.show()"
   ]
  },
  {
   "cell_type": "code",
   "execution_count": null,
   "metadata": {},
   "outputs": [],
   "source": [
    "# ----------------\n",
    "# INFERENCE\n",
    "# ----------------\n",
    "# Show a random example from the test set along with its predicted and actual labels\n",
    "show_random_example(model, mnist_test)\n"
   ]
  },
  {
   "cell_type": "code",
   "execution_count": null,
   "metadata": {},
   "outputs": [],
   "source": []
  },
  {
   "cell_type": "code",
   "execution_count": null,
   "metadata": {},
   "outputs": [],
   "source": []
  },
  {
   "cell_type": "code",
   "execution_count": null,
   "metadata": {},
   "outputs": [],
   "source": [
    "import pytorch_lightning as pl\n",
    "from pytorch_lightning.callbacks import EarlyStopping, ModelCheckpoint\n",
    "from pytorch_lightning.loggers import WandbLogger\n",
    "\n",
    "# Set seed for reproducibility\n",
    "pl.seed_everything(42, workers=True)\n",
    "\n",
    "# Define the logger\n",
    "wandb_logger = WandbLogger()\n",
    "\n"
   ]
  },
  {
   "cell_type": "code",
   "execution_count": null,
   "metadata": {},
   "outputs": [],
   "source": []
  }
 ],
 "metadata": {
  "kernelspec": {
   "display_name": "pl",
   "language": "python",
   "name": "python3"
  },
  "language_info": {
   "codemirror_mode": {
    "name": "ipython",
    "version": 3
   },
   "file_extension": ".py",
   "mimetype": "text/x-python",
   "name": "python",
   "nbconvert_exporter": "python",
   "pygments_lexer": "ipython3",
   "version": "3.10.14"
  }
 },
 "nbformat": 4,
 "nbformat_minor": 2
}
